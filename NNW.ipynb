{
 "cells": [
  {
   "cell_type": "code",
   "execution_count": 1,
   "metadata": {},
   "outputs": [],
   "source": [
    "#%matplotlib notebook\n",
    "import numpy as np\n",
    "import matplotlib.pyplot as plt\n",
    "from sklearn import datasets\n",
    "from sklearn.cluster import KMeans\n",
    "import pandas as pd"
   ]
  },
  {
   "cell_type": "code",
   "execution_count": 2,
   "metadata": {},
   "outputs": [],
   "source": [
    "hours = [0.50, 0.75, 1.00, 1.25, 1.50, 1.75, 1.75, 2.00, 2.25, 2.50, 2.75, 3.00, 3.25, 3.50, 4.00, 4.25, 4.50, 4.75, 5.00, 5.50]\n",
    "passed = [0, 0, 0, 0, 0, 1, 1, 0, 1, 1, 1, 0, 1, 0, 0, 0, 0, 0, 0, 0]\n",
    "\n",
    "hours = np.reshape(hours, (len(hours), 1))\n",
    "passed = np.reshape(passed, (len(passed), 1))\n",
    "\n",
    "test_y = []\n",
    "test_x = []\n",
    "\n",
    "for i in range(200):\n",
    "    test_y.append(np.sin(i/50) + np.random.normal()/200)\n",
    "    test_x.append(i / 50)\n",
    "\n",
    "# test_y = np.reshape(test_y, (len(test_y), 1))\n",
    "# test_x = np.reshape(test_x, (len(test_x), 1))\n",
    "test_y = passed\n",
    "test_x = hours"
   ]
  },
  {
   "cell_type": "code",
   "execution_count": 3,
   "metadata": {},
   "outputs": [],
   "source": [
    "def forward(x, w, b):\n",
    "    return np.dot(x, w) + b"
   ]
  },
  {
   "cell_type": "code",
   "execution_count": 4,
   "metadata": {},
   "outputs": [],
   "source": [
    "def sigmoid(Z):\n",
    "    return 1/(1+np.exp(-Z))"
   ]
  },
  {
   "cell_type": "code",
   "execution_count": 5,
   "metadata": {},
   "outputs": [],
   "source": [
    "def d_sigmoid(Z):\n",
    "    return sigmoid(Z) * (1 - sigmoid(Z))"
   ]
  },
  {
   "cell_type": "code",
   "execution_count": 6,
   "metadata": {},
   "outputs": [],
   "source": [
    "def ReLU(Z):\n",
    "    return np.maximum(0, Z)"
   ]
  },
  {
   "cell_type": "code",
   "execution_count": 7,
   "metadata": {},
   "outputs": [],
   "source": [
    "def d_ReLU(Z):\n",
    "    Z[Z <= 0] = 0\n",
    "    Z[Z > 0] = 1\n",
    "    return Z"
   ]
  },
  {
   "cell_type": "code",
   "execution_count": 8,
   "metadata": {},
   "outputs": [],
   "source": [
    "def loss_function(y, y_pred):\n",
    "    return np.sum((y - y_pred) ** 2)"
   ]
  },
  {
   "cell_type": "code",
   "execution_count": 9,
   "metadata": {},
   "outputs": [],
   "source": [
    "def backward_propagation(y, X, Z1, Z2, Z3, w1, w2, w3, b1, b2, b3, a1, a2, a3,  learning_rate):\n",
    "\n",
    "    delta_3 = -2 * (y - a3) * d_sigmoid(Z3)\n",
    "    dw3 = np.dot(a2.T, delta_3)\n",
    "\n",
    "    delta_2 = np.dot(delta_3, w3.T) * d_sigmoid(Z2)\n",
    "    dw2 = np.dot(a1.T, delta_2)\n",
    "\n",
    "    delta_1 = np.dot(delta_2, w2.T) * sigmoid(Z1)\n",
    "    dw1 = np.dot(X.T, delta_1)\n",
    "\n",
    "    db3 =  sum(delta_3)\n",
    "\n",
    "    db2 = sum(delta_2)\n",
    "\n",
    "    db1 = sum(delta_1)\n",
    "\n",
    "\n",
    "    w1 -= dw1 * learning_rate\n",
    "    w2 -= dw2 * learning_rate\n",
    "    w3 -= dw3 * learning_rate\n",
    "    b1 -= db1 * learning_rate\n",
    "    b2 -= db2 * learning_rate\n",
    "    b3 -= db3 * learning_rate\n",
    "    return w1, w2, w3, b1, b2, b3"
   ]
  },
  {
   "cell_type": "code",
   "execution_count": 10,
   "metadata": {},
   "outputs": [],
   "source": [
    "def train(y, x, iter, learning_rate):\n",
    "    losses = []\n",
    "    predictions = np.zeros((0, len(y)))\n",
    "    w1 = np.random.normal(0, 1, size=(x.shape[1], number_of_nodes))\n",
    "    w1 = np.reshape(w1, (x.shape[1], number_of_nodes))\n",
    "\n",
    "    w2 = np.random.normal(0, 1, size=(number_of_nodes, number_of_nodes))\n",
    "    w2 = np.reshape(w2, (number_of_nodes, number_of_nodes))\n",
    "\n",
    "    w3 = np.random.normal(0, 1, size=number_of_nodes)\n",
    "    w3 = np.reshape(w3, (number_of_nodes, 1))\n",
    "\n",
    "    b1, b2, b3 = [0] * number_of_nodes, [0] * number_of_nodes, 0\n",
    "\n",
    "    for i in range(iter):\n",
    "        Z1 = forward(x, w1, b1)\n",
    "        a1 = sigmoid(Z1)\n",
    "\n",
    "        Z2 = forward(a1, w2, b2)\n",
    "        a2 = sigmoid(Z2)\n",
    "\n",
    "        Z3 = forward(a2, w3, b3)\n",
    "        a3 = sigmoid(Z3)\n",
    "\n",
    "        losses.append(loss_function(y, a3))\n",
    "        predictions = np.append(predictions, a3.T, axis=0)\n",
    "\n",
    "        w1, w2, w3, b1, b2, b3 = backward_propagation(y, x, Z1, Z2, Z3, w1, w2, w3, b1, b2, b3, a1, a2, a3, learning_rate)\n",
    "    return losses, a3, w1, w2, w3, b1, b2, b3, predictions\n",
    "\n",
    "np.random.seed(10)\n",
    "\n",
    "number_of_nodes =  100\n",
    "\n",
    "iterations = 10000\n",
    "learning_rate = 0.005\n",
    "\n",
    "\n",
    "sp, y_pred, w1, w2, w3, b1, b2, b3, pred = train(test_y, test_x, iterations, learning_rate)"
   ]
  },
  {
   "cell_type": "code",
   "execution_count": 11,
   "metadata": {},
   "outputs": [
    {
     "data": {
      "text/plain": [
       "<matplotlib.collections.PathCollection at 0x7ff4afbb2f70>"
      ]
     },
     "execution_count": 11,
     "metadata": {},
     "output_type": "execute_result"
    },
    {
     "data": {
      "image/png": "[encoded data removed]",
      "text/plain": [
       "<Figure size 640x480 with 1 Axes>"
      ]
     },
     "metadata": {},
     "output_type": "display_data"
    }
   ],
   "source": [
    "#plt.plot(test_x, y_pred, color=\"red\")\n",
    "plt.scatter(test_x, test_y)"
   ]
  },
  {
   "cell_type": "code",
   "execution_count": null,
   "metadata": {},
   "outputs": [],
   "source": [
    "%matplotlib inline\n",
    "from matplotlib import animation\n",
    "from IPython.display import HTML\n",
    "\n",
    "fig = plt.figure(figsize=(12,5))\n",
    "ax = plt.subplot(1,2,1)\n",
    "\n",
    "ax.set_xlim(( 0, 5))\n",
    "ax.set_ylim((0, 1))\n",
    "\n",
    "line, = ax.plot([], [], lw=2)\n",
    "plt.close()\n",
    "\n",
    "def update(num, x, pred):\n",
    "    line.set_data(x, pred[num, :])\n",
    "    return (line,)\n",
    "\n",
    "anim = animation.FuncAnimation(fig, update, frames=10000, fargs=[test_x, pred],\n",
    "                              interval=25, blit=True)\n",
    "\n",
    "HTML(anim.to_html5_video())"
   ]
  },
  {
   "cell_type": "markdown",
   "metadata": {},
   "source": []
  },
  {
   "cell_type": "code",
   "execution_count": null,
   "metadata": {},
   "outputs": [],
   "source": [
    "iris = datasets.load_iris()\n",
    "X = pd.DataFrame(iris.data[:100, :3])\n",
    "y = pd.DataFrame(iris.target[:100])"
   ]
  },
  {
   "cell_type": "code",
   "execution_count": null,
   "metadata": {},
   "outputs": [],
   "source": [
    "fig = plt.figure(figsize=(12, 12))\n",
    "ax = fig.add_subplot(projection='3d')\n",
    "\n",
    "ax.scatter3D(X.loc[:, 0], X.loc[:, 1], X.loc[:, 2], c=y)"
   ]
  },
  {
   "cell_type": "code",
   "execution_count": null,
   "metadata": {},
   "outputs": [],
   "source": [
    "kmeans = KMeans(3)\n",
    "kmeans.fit(X)\n",
    "\n",
    "pred = kmeans.fit_predict(X)\n",
    "centroids = kmeans.cluster_centers_\n",
    "\n",
    "fig = plt.figure(figsize=(12, 12))\n",
    "ax = fig.add_subplot(projection='3d')\n",
    "\n",
    "ax.scatter3D(X.loc[:, 0], X.loc[:, 1], X.loc[:, 2], c=y)\n",
    "ax.scatter(centroids[:,0] , centroids[:,1], centroids[:, 2] , s = 80, color = 'r')"
   ]
  },
  {
   "cell_type": "code",
   "execution_count": null,
   "metadata": {},
   "outputs": [],
   "source": [
    "sp, y_pred, w1, w2, w3, b1, b2, b3, pred = train(y, X.loc[:, 0:1], iterations, learning_rate)"
   ]
  },
  {
   "cell_type": "code",
   "execution_count": null,
   "metadata": {},
   "outputs": [],
   "source": [
    "z = np.zeros((20, 20))\n",
    "\n",
    "yy, xx = np.meshgrid(np.linspace(2, 4.5, 20), np.linspace(4, 7, 20))\n",
    "\n",
    "for i in range(20):\n",
    "    for j in range(20):\n",
    "        input = [xx[i, j], yy[i, j]]\n",
    "\n",
    "        Z1 = forward(input, w1, b1)\n",
    "        a1 = sigmoid(Z1)\n",
    "\n",
    "        Z2 = forward(a1, w2, b2)\n",
    "        a2 = sigmoid(Z2)\n",
    "\n",
    "        Z3 = forward(a2, w3, b3)\n",
    "        a3 = sigmoid(Z3)\n",
    "\n",
    "        z[i, j] = a3"
   ]
  },
  {
   "cell_type": "code",
   "execution_count": null,
   "metadata": {},
   "outputs": [],
   "source": [
    "fig = plt.figure(figsize=(12, 12))\n",
    "ax = fig.add_subplot(projection='3d')\n",
    "\n",
    "ax.scatter3D(X.loc[:, 0], X.loc[:, 1], y, c=y)\n",
    "#ax.scatter(centroids[:,0] , centroids[:,1], centroids[:, 2] , s = 80, color = 'r')\n",
    "ax.plot_surface(xx, yy, z, alpha=0.5)"
   ]
  },
  {
   "cell_type": "code",
   "execution_count": null,
   "metadata": {},
   "outputs": [],
   "source": []
  }
 ],
 "metadata": {
  "kernelspec": {
   "display_name": "Python 3 (ipykernel)",
   "language": "python",
   "name": "python3"
  },
  "language_info": {
   "codemirror_mode": {
    "name": "ipython",
    "version": 3
   },
   "file_extension": ".py",
   "mimetype": "text/x-python",
   "name": "python",
   "nbconvert_exporter": "python",
   "pygments_lexer": "ipython3",
   "version": "3.9.1"
  }
 },
 "nbformat": 4,
 "nbformat_minor": 1
}
